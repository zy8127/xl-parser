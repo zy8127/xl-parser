{
 "cells": [
  {
   "cell_type": "code",
   "execution_count": 1,
   "metadata": {
    "collapsed": false
   },
   "outputs": [],
   "source": [
    "import pandas as pd\n",
    "import sqlite3\n",
    "\n",
    "con = sqlite3.connect('db.sqlite3')\n",
    "df = pd.read_sql(sql='select * from tc拉拔转序', con=con)\n",
    "# df = df.set_index(['产品图号', '工序'])\n",
    "del df['产品类别']\n",
    "del df['合计']\n",
    "\n",
    "df = df.stack()\n",
    "\n",
    "\n",
    "\n",
    "\n",
    "df.index.names = ['产品图号', '工序', '日期']\n",
    "df = df.to_frame()\n",
    "df.columns = ['数量']\n",
    "df.to_sql(name='test', con=con, flavor='sqlite', if_exists='replace')\n",
    "df"
   ]
  },
  {
   "cell_type": "code",
   "execution_count": null,
   "metadata": {
    "collapsed": true
   },
   "outputs": [],
   "source": []
  }
 ],
 "metadata": {
  "anaconda-cloud": {},
  "kernelspec": {
   "display_name": "Python [Root]",
   "language": "python",
   "name": "Python [Root]"
  },
  "language_info": {
   "codemirror_mode": {
    "name": "ipython",
    "version": 3
   },
   "file_extension": ".py",
   "mimetype": "text/x-python",
   "name": "python",
   "nbconvert_exporter": "python",
   "pygments_lexer": "ipython3",
   "version": "3.5.2"
  }
 },
 "nbformat": 4,
 "nbformat_minor": 0
}
